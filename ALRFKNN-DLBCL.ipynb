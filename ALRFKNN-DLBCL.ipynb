{
 "cells": [
  {
   "cell_type": "code",
   "execution_count": 1,
   "metadata": {},
   "outputs": [],
   "source": [
    "#import \n",
    "import pandas as pd\n",
    "from sklearn.model_selection import train_test_split\n",
    "from sklearn.metrics.pairwise import euclidean_distances\n",
    "import numpy as np\n",
    "from sklearn.metrics import accuracy_score\n",
    "from sklearn.metrics import confusion_matrix\n",
    "from sklearn.metrics import f1_score\n",
    "from sklearn.metrics import cohen_kappa_score\n",
    "from sklearn.neighbors import KNeighborsClassifier\n",
    "from sklearn import svm\n",
    "from sklearn.feature_selection import RFE"
   ]
  },
  {
   "cell_type": "code",
   "execution_count": 2,
   "metadata": {},
   "outputs": [],
   "source": [
    "#parameter\n",
    "k=4\n",
    "m=2\n",
    "N=2 #number of class  \n",
    "tou =0.3 # threshold\n",
    "\n",
    "#fuzzyfier\n",
    "fuzzyfier = 2/(m-1) "
   ]
  },
  {
   "cell_type": "code",
   "execution_count": 3,
   "metadata": {},
   "outputs": [
    {
     "data": {
      "text/html": [
       "<div>\n",
       "<style scoped>\n",
       "    .dataframe tbody tr th:only-of-type {\n",
       "        vertical-align: middle;\n",
       "    }\n",
       "\n",
       "    .dataframe tbody tr th {\n",
       "        vertical-align: top;\n",
       "    }\n",
       "\n",
       "    .dataframe thead th {\n",
       "        text-align: right;\n",
       "    }\n",
       "</style>\n",
       "<table border=\"1\" class=\"dataframe\">\n",
       "  <thead>\n",
       "    <tr style=\"text-align: right;\">\n",
       "      <th></th>\n",
       "      <th>0</th>\n",
       "      <th>1</th>\n",
       "      <th>2</th>\n",
       "      <th>3</th>\n",
       "      <th>4</th>\n",
       "      <th>5</th>\n",
       "      <th>6</th>\n",
       "      <th>7</th>\n",
       "      <th>8</th>\n",
       "      <th>9</th>\n",
       "      <th>...</th>\n",
       "      <th>7061</th>\n",
       "      <th>7062</th>\n",
       "      <th>7063</th>\n",
       "      <th>7064</th>\n",
       "      <th>7065</th>\n",
       "      <th>7066</th>\n",
       "      <th>7067</th>\n",
       "      <th>7068</th>\n",
       "      <th>7069</th>\n",
       "      <th>7070</th>\n",
       "    </tr>\n",
       "  </thead>\n",
       "  <tbody>\n",
       "    <tr>\n",
       "      <th>0</th>\n",
       "      <td>-1</td>\n",
       "      <td>-45</td>\n",
       "      <td>176</td>\n",
       "      <td>97</td>\n",
       "      <td>-57</td>\n",
       "      <td>233</td>\n",
       "      <td>265</td>\n",
       "      <td>945</td>\n",
       "      <td>56</td>\n",
       "      <td>819</td>\n",
       "      <td>...</td>\n",
       "      <td>1036</td>\n",
       "      <td>-161</td>\n",
       "      <td>1523</td>\n",
       "      <td>-72</td>\n",
       "      <td>897</td>\n",
       "      <td>366</td>\n",
       "      <td>3</td>\n",
       "      <td>76</td>\n",
       "      <td>-28</td>\n",
       "      <td>1</td>\n",
       "    </tr>\n",
       "    <tr>\n",
       "      <th>1</th>\n",
       "      <td>25</td>\n",
       "      <td>-17</td>\n",
       "      <td>531</td>\n",
       "      <td>353</td>\n",
       "      <td>122</td>\n",
       "      <td>155</td>\n",
       "      <td>209</td>\n",
       "      <td>1688</td>\n",
       "      <td>42</td>\n",
       "      <td>639</td>\n",
       "      <td>...</td>\n",
       "      <td>4254</td>\n",
       "      <td>-75</td>\n",
       "      <td>6056</td>\n",
       "      <td>-68</td>\n",
       "      <td>737</td>\n",
       "      <td>81</td>\n",
       "      <td>-4</td>\n",
       "      <td>41</td>\n",
       "      <td>-45</td>\n",
       "      <td>1</td>\n",
       "    </tr>\n",
       "    <tr>\n",
       "      <th>2</th>\n",
       "      <td>73</td>\n",
       "      <td>91</td>\n",
       "      <td>257</td>\n",
       "      <td>80</td>\n",
       "      <td>614</td>\n",
       "      <td>507</td>\n",
       "      <td>760</td>\n",
       "      <td>2252</td>\n",
       "      <td>196</td>\n",
       "      <td>863</td>\n",
       "      <td>...</td>\n",
       "      <td>1934</td>\n",
       "      <td>-129</td>\n",
       "      <td>2901</td>\n",
       "      <td>-9</td>\n",
       "      <td>946</td>\n",
       "      <td>450</td>\n",
       "      <td>38</td>\n",
       "      <td>164</td>\n",
       "      <td>-62</td>\n",
       "      <td>1</td>\n",
       "    </tr>\n",
       "  </tbody>\n",
       "</table>\n",
       "<p>3 rows × 7071 columns</p>\n",
       "</div>"
      ],
      "text/plain": [
       "   0     1     2     3     4     5     6     7     8     9     ...  7061  \\\n",
       "0    -1   -45   176    97   -57   233   265   945    56   819  ...  1036   \n",
       "1    25   -17   531   353   122   155   209  1688    42   639  ...  4254   \n",
       "2    73    91   257    80   614   507   760  2252   196   863  ...  1934   \n",
       "\n",
       "   7062  7063  7064  7065  7066  7067  7068  7069  7070  \n",
       "0  -161  1523   -72   897   366     3    76   -28     1  \n",
       "1   -75  6056   -68   737    81    -4    41   -45     1  \n",
       "2  -129  2901    -9   946   450    38   164   -62     1  \n",
       "\n",
       "[3 rows x 7071 columns]"
      ]
     },
     "execution_count": 3,
     "metadata": {},
     "output_type": "execute_result"
    }
   ],
   "source": [
    "#reading the microarray gene expression dataset\n",
    "lu = pd.read_csv('DLBCLmattest.txt', header=None,sep='\\t')\n",
    "\n",
    "#lu.isnull().values.any()\n",
    "lu.head(3)"
   ]
  },
  {
   "cell_type": "code",
   "execution_count": 4,
   "metadata": {},
   "outputs": [],
   "source": [
    "#dividing the data into train-test and labeled- u dataset to \n",
    "y = lu.iloc[:,[-1]]\n",
    "X = lu.iloc[:,:-2]\n",
    "\n",
    "X_train, X_test, y_train, y_test = train_test_split(X, y, test_size=0.75, random_state=80)\n",
    "\n"
   ]
  },
  {
   "cell_type": "code",
   "execution_count": 5,
   "metadata": {},
   "outputs": [
    {
     "data": {
      "text/plain": [
       "7070\n",
       "1       16\n",
       "2        3\n",
       "dtype: int64"
      ]
     },
     "execution_count": 5,
     "metadata": {},
     "output_type": "execute_result"
    }
   ],
   "source": [
    "y_train.value_counts()"
   ]
  },
  {
   "cell_type": "code",
   "execution_count": 6,
   "metadata": {},
   "outputs": [],
   "source": [
    "###### RFE\n",
    "from sklearn.feature_selection import RFE\n",
    "from sklearn.linear_model import LinearRegression\n",
    "\n",
    "\n",
    "\n",
    "\n",
    "lm = LinearRegression()\n",
    "lm.fit(X_train,y_train)\n",
    "\n",
    "\n",
    "rfe = RFE(lm, n_features_to_select=150)\n",
    "rfe = rfe.fit(X_train, y_train)\n",
    "X_train_rfe = X_train[X_train.columns[rfe.support_]]\n",
    "X_test_rfe = X_test[X_test.columns[rfe.support_]]\n"
   ]
  },
  {
   "cell_type": "code",
   "execution_count": 7,
   "metadata": {},
   "outputs": [
    {
     "data": {
      "text/plain": [
       "'X_train_rfe =X_train\\nX_test_rfe = X_test\\n'"
      ]
     },
     "execution_count": 7,
     "metadata": {},
     "output_type": "execute_result"
    }
   ],
   "source": [
    "'''X_train_rfe =X_train\n",
    "X_test_rfe = X_test\n",
    "'''\n"
   ]
  },
  {
   "cell_type": "code",
   "execution_count": 8,
   "metadata": {},
   "outputs": [],
   "source": [
    "X_Labeled , X_unLabeled, y_Labeled, y_unLabeled = train_test_split(X_train_rfe, y_train, test_size=0.60, random_state=90)"
   ]
  },
  {
   "cell_type": "code",
   "execution_count": 9,
   "metadata": {},
   "outputs": [
    {
     "data": {
      "text/plain": [
       "7070\n",
       "1       6\n",
       "2       1\n",
       "dtype: int64"
      ]
     },
     "execution_count": 9,
     "metadata": {},
     "output_type": "execute_result"
    }
   ],
   "source": [
    "y_Labeled.value_counts()"
   ]
  },
  {
   "cell_type": "code",
   "execution_count": 10,
   "metadata": {},
   "outputs": [],
   "source": [
    "#computing euclidean distance for each unlabeled data point to labeled data point\n",
    "distul = euclidean_distances(X_unLabeled, X_Labeled)"
   ]
  },
  {
   "cell_type": "code",
   "execution_count": 11,
   "metadata": {},
   "outputs": [],
   "source": [
    "#array of index of nearest neighbour\n",
    "knn_index=[]\n",
    "for i in range(len(distul)) :\n",
    "    knn_index.append (np.argsort(distul[i]))"
   ]
  },
  {
   "cell_type": "code",
   "execution_count": 12,
   "metadata": {},
   "outputs": [],
   "source": [
    "#function to get distance from knn and its class\n",
    "\n",
    "def para_knn(i):\n",
    "    #print (distul[i])\n",
    "    #print (knn_index[i][:k])\n",
    "    ind = knn_index[i][:k]\n",
    "    #print([i for i in distul[i][ind]])\n",
    "    k_dist = [i for i in distul[i][ind]]\n",
    "    k_dist_fuzzifier =  np.power(k_dist,fuzzyfier) \n",
    "    k_dist = sum(k_dist_fuzzifier)\n",
    "    #print(y_Labeled.iloc[ind])\n",
    "       \n",
    "    \n",
    "    return k_dist,y_Labeled.iloc[ind].values"
   ]
  },
  {
   "cell_type": "code",
   "execution_count": null,
   "metadata": {},
   "outputs": [],
   "source": []
  },
  {
   "cell_type": "code",
   "execution_count": 13,
   "metadata": {},
   "outputs": [],
   "source": [
    "#relationship R\n",
    "\n",
    "def R(ui,lx):\n",
    "    numerator = para_knn(ui)[0]\n",
    "    denomerator = distul[ui][lx]\n",
    "    denomerator = np.power(denomerator,fuzzyfier)\n",
    "    return (numerator/denomerator)\n",
    "\n",
    "    "
   ]
  },
  {
   "cell_type": "code",
   "execution_count": 14,
   "metadata": {},
   "outputs": [],
   "source": [
    "#class function \n",
    "\n",
    "def C(j,lx):\n",
    "    if (y_Labeled.iloc[lx].values== j):\n",
    "        return 1\n",
    "    else:\n",
    "        return 0"
   ]
  },
  {
   "cell_type": "code",
   "execution_count": null,
   "metadata": {},
   "outputs": [],
   "source": []
  },
  {
   "cell_type": "code",
   "execution_count": 15,
   "metadata": {},
   "outputs": [],
   "source": [
    "\n",
    "#lower approximation function\n",
    "\n",
    "def R_lower(ui,cj):\n",
    "    rl=[]\n",
    "    for i in range(k):\n",
    "        l_x = knn_index[ui][i]\n",
    "        rl.append(min(1,(1 + C(cj,l_x)) -R(ui,l_x)) )\n",
    "    return min(rl)    \n",
    "            \n",
    "        "
   ]
  },
  {
   "cell_type": "code",
   "execution_count": 16,
   "metadata": {},
   "outputs": [],
   "source": [
    "#upper approximation function\n",
    "\n",
    "def R_upper(ui,cj):\n",
    "    ru=[]\n",
    "    for i in range(k):\n",
    "        l_x = knn_index[ui][i]\n",
    "        \n",
    "        ru.append( max(0,(R(ui,l_x)+C(cj,l_x))-1) )\n",
    "    return max(ru) "
   ]
  },
  {
   "cell_type": "code",
   "execution_count": 17,
   "metadata": {},
   "outputs": [],
   "source": [
    "#get the most confusing sample from    \n",
    "def get_R():\n",
    "    \n",
    "    #computing the lower approximation for unlabeled with association of class 1\n",
    "    R_lower_1=[]\n",
    "    for i in range(len(X_unLabeled)):\n",
    "        R_lower_1.append(R_lower(i,1))\n",
    "        \n",
    "    #computing the lower approximation for unlabeled with association of class 2    \n",
    "    R_lower_2=[]\n",
    "    for i in range(len(X_unLabeled)):\n",
    "        R_lower_2.append(R_lower(i,2)) \n",
    "     \n",
    "    #computing the upper approximation for unlabeled with association of class 1\n",
    "    R_upper_1=[]\n",
    "    for i in range(len(X_unLabeled)):\n",
    "        R_upper_1.append(R_upper(i,1))\n",
    "    \n",
    "    #computing the upper approximation for unlabeled with association of class 2\n",
    "    R_upper_2=[]\n",
    "    for i in range(len(X_unLabeled)):\n",
    "        R_upper_2.append(R_upper(i,2))    \n",
    "\n",
    "    \n",
    "    #getting average of the upper and lower approximation and computing normalized ratio for the class 1\n",
    "    avg_for_1= np. add(R_lower_1, R_upper_1)\n",
    "    avg_for_1 =[e/2 for e in avg_for_1]\n",
    "    max_h1=max(avg_for_1)\n",
    "    avg_for_1 = [e/max_h1 for e in avg_for_1]\n",
    "    \n",
    "    #getting average of the upper and lower approximation and computing normalized ratio for the class 1 \n",
    "    avg_for_2= np. add(R_lower_2, R_upper_2)\n",
    "    avg_for_2 =[e/2 for e in avg_for_2]\n",
    "    max_h2=max(avg_for_2)\n",
    "    avg_for_2 = [e/max_h2 for e in avg_for_2]\n",
    "    max_ratio=0\n",
    "    conf_index=0\n",
    "    \n",
    "    for i in range(len(y_unLabeled)):\n",
    "        if (y_unLabeled.iloc[i].values == 2):\n",
    "            print('ind: ',[i],avg_for_1[i])\n",
    "            if(avg_for_1[i]>max_ratio):\n",
    "                max_ratio =avg_for_1[i]\n",
    "                conf_index = X_unLabeled.index[i]\n",
    "                \n",
    "   \n",
    "    for i in range(len(y_unLabeled)):\n",
    "        if (y_unLabeled.iloc[i].values == 1):\n",
    "            print('ind: ',[i],avg_for_2[i])\n",
    "            if(avg_for_2[i]>max_ratio):\n",
    "                max_ratio =avg_for_2[i]\n",
    "                conf_index = X_unLabeled.index[i]\n",
    "                \n",
    "                \n",
    "    if (max_ratio >= tou):\n",
    "        return ( max_ratio, conf_index)\n",
    "    return ( max_ratio, conf_index)"
   ]
  },
  {
   "cell_type": "code",
   "execution_count": 18,
   "metadata": {},
   "outputs": [],
   "source": [
    "#function for transfer of sample for unlabeled data pattern to labeled data pattern\n",
    "def transfer_sample(In):\n",
    "    global X_Labeled \n",
    "    global y_Labeled \n",
    "    global X_unLabeled \n",
    "    global y_unLabeled \n",
    "    X_Labeled = X_Labeled.append(X_unLabeled.loc[In])\n",
    "    y_Labeled = y_Labeled.append(y_unLabeled.loc[In])\n",
    "    X_unLabeled = X_unLabeled.drop([In])\n",
    "    y_unLabeled = y_unLabeled.drop([In])\n",
    "    print('sampled moved')\n"
   ]
  },
  {
   "cell_type": "code",
   "execution_count": 19,
   "metadata": {
    "scrolled": false
   },
   "outputs": [
    {
     "name": "stdout",
     "output_type": "stream",
     "text": [
      "ind:  [2] 0.0\n",
      "ind:  [9] 0.0\n",
      "ind:  [0] 0.0\n",
      "ind:  [1] 0.0\n",
      "ind:  [3] 0.0\n",
      "ind:  [4] 0.8288843727831603\n",
      "ind:  [5] 0.0\n",
      "ind:  [6] 0.0\n",
      "ind:  [7] 0.1853062192788384\n",
      "ind:  [8] 0.0\n",
      "ind:  [10] 0.0\n",
      "ind:  [11] 0.0\n",
      "ind:  [2] 0.0\n",
      "ind:  [9] 0.0\n",
      "ind:  [0] 0.0\n",
      "ind:  [1] 0.0\n",
      "ind:  [3] 0.0\n",
      "ind:  [4] 0.8288843727831603\n",
      "ind:  [5] 0.0\n",
      "ind:  [6] 0.0\n",
      "ind:  [7] 0.1853062192788384\n",
      "ind:  [8] 0.0\n",
      "ind:  [10] 0.0\n",
      "ind:  [11] 0.0\n",
      "sampled moved\n",
      "ind:  [2] 0.0\n",
      "ind:  [8] 1.0\n",
      "ind:  [0] 0.0\n",
      "ind:  [1] 0.0\n",
      "ind:  [3] 0.0\n",
      "ind:  [4] 0.8288843727831603\n",
      "ind:  [5] 0.0\n",
      "ind:  [6] 0.0\n",
      "ind:  [7] 0.1853062192788384\n",
      "ind:  [9] 1.0\n",
      "ind:  [10] 0.0\n",
      "ind:  [2] 0.0\n",
      "ind:  [8] 1.0\n",
      "ind:  [0] 0.0\n",
      "ind:  [1] 0.0\n",
      "ind:  [3] 0.0\n",
      "ind:  [4] 0.8288843727831603\n",
      "ind:  [5] 0.0\n",
      "ind:  [6] 0.0\n",
      "ind:  [7] 0.1853062192788384\n",
      "ind:  [9] 1.0\n",
      "ind:  [10] 0.0\n",
      "sampled moved\n",
      "ind:  [2] 0.0\n",
      "ind:  [0] 0.0\n",
      "ind:  [1] 0.0\n",
      "ind:  [3] 0.0\n",
      "ind:  [4] 0.8288843727831603\n",
      "ind:  [5] 0.0\n",
      "ind:  [6] 0.0\n",
      "ind:  [7] 0.1853062192788384\n",
      "ind:  [8] 0.0\n",
      "ind:  [9] 1.0\n",
      "ind:  [2] 0.0\n",
      "ind:  [0] 0.0\n",
      "ind:  [1] 0.0\n",
      "ind:  [3] 0.0\n",
      "ind:  [4] 0.8288843727831603\n",
      "ind:  [5] 0.0\n",
      "ind:  [6] 0.0\n",
      "ind:  [7] 0.1853062192788384\n",
      "ind:  [8] 0.0\n",
      "ind:  [9] 1.0\n",
      "sampled moved\n",
      "ind:  [2] 0.0\n",
      "ind:  [0] 0.0\n",
      "ind:  [1] 0.0\n",
      "ind:  [3] 0.0\n",
      "ind:  [4] 0.8288843727831603\n",
      "ind:  [5] 0.0\n",
      "ind:  [6] 0.0\n",
      "ind:  [7] 0.1853062192788384\n",
      "ind:  [8] 0.0\n",
      "ind:  [2] 0.0\n",
      "ind:  [0] 0.0\n",
      "ind:  [1] 0.0\n",
      "ind:  [3] 0.0\n",
      "ind:  [4] 0.8288843727831603\n",
      "ind:  [5] 0.0\n",
      "ind:  [6] 0.0\n",
      "ind:  [7] 0.1853062192788384\n",
      "ind:  [8] 0.0\n",
      "sampled moved\n",
      "ind:  [2] 0.0\n",
      "ind:  [0] 0.0\n",
      "ind:  [1] 0.0\n",
      "ind:  [3] 0.0\n",
      "ind:  [4] 0.8288843727831603\n",
      "ind:  [5] 0.0\n",
      "ind:  [6] 0.0\n",
      "ind:  [7] 0.1853062192788384\n",
      "ind:  [2] 0.0\n",
      "ind:  [0] 0.0\n",
      "ind:  [1] 0.0\n",
      "ind:  [3] 0.0\n",
      "ind:  [4] 0.8288843727831603\n",
      "ind:  [5] 0.0\n",
      "ind:  [6] 0.0\n",
      "ind:  [7] 0.1853062192788384\n",
      "sampled moved\n",
      "ind:  [2] 0.0\n",
      "ind:  [0] 0.0\n",
      "ind:  [1] 0.0\n",
      "ind:  [3] 0.0\n",
      "ind:  [4] 0.8288843727831603\n",
      "ind:  [5] 0.0\n",
      "ind:  [6] 0.0\n",
      "ind:  [2] 0.0\n",
      "ind:  [0] 0.0\n",
      "ind:  [1] 0.0\n",
      "ind:  [3] 0.0\n",
      "ind:  [4] 0.8288843727831603\n",
      "ind:  [5] 0.0\n",
      "ind:  [6] 0.0\n",
      "sampled moved\n",
      "ind:  [2] 0.0\n",
      "ind:  [0] 0.0\n",
      "ind:  [1] 0.0\n",
      "ind:  [3] 0.0\n",
      "ind:  [4] 0.8288843727831603\n",
      "ind:  [5] 0.0\n",
      "ind:  [2] 0.0\n",
      "ind:  [0] 0.0\n",
      "ind:  [1] 0.0\n",
      "ind:  [3] 0.0\n",
      "ind:  [4] 0.8288843727831603\n",
      "ind:  [5] 0.0\n",
      "sampled moved\n",
      "ind:  [2] 0.0\n",
      "ind:  [0] 0.0\n",
      "ind:  [1] 0.0\n",
      "ind:  [3] 0.0\n",
      "ind:  [4] 0.8288843727831603\n",
      "ind:  [2] 0.0\n",
      "ind:  [0] 0.0\n",
      "ind:  [1] 0.0\n",
      "ind:  [3] 0.0\n",
      "ind:  [4] 0.8288843727831603\n",
      "sampled moved\n",
      "ind:  [2] 0.0\n",
      "ind:  [0] 0.0\n",
      "ind:  [1] 0.0\n",
      "ind:  [3] 0.0\n"
     ]
    }
   ],
   "source": [
    "\n",
    "while(get_R()[0]>tou):\n",
    "    transfer_sample(get_R()[1])\n"
   ]
  },
  {
   "cell_type": "code",
   "execution_count": null,
   "metadata": {},
   "outputs": [],
   "source": []
  },
  {
   "cell_type": "code",
   "execution_count": 20,
   "metadata": {},
   "outputs": [
    {
     "data": {
      "text/plain": [
       "15"
      ]
     },
     "execution_count": 20,
     "metadata": {},
     "output_type": "execute_result"
    }
   ],
   "source": [
    "len(X_Labeled)"
   ]
  },
  {
   "cell_type": "code",
   "execution_count": 21,
   "metadata": {},
   "outputs": [],
   "source": [
    "#testing \n",
    "\n",
    "#computing euclidean distance for each test data point to labeled data point\n",
    "disttl = euclidean_distances(X_test_rfe, X_Labeled)\n",
    "\n",
    "#array of index of nearest neighbour\n",
    "knn_index_test=[]\n",
    "for i in range(len(disttl)) :\n",
    "    knn_index_test.append (np.argsort(disttl[i]))\n",
    "    \n",
    "#function to get distance from knn and its class\n",
    "def para_knn_test(i):\n",
    "    ind = knn_index_test[i][:k]\n",
    "    k_dist_test = [i for i in disttl[i][ind]]\n",
    "    k_dist_fuzzifier_test =  np.power(k_dist_test,fuzzyfier) \n",
    "    k_dist_test = sum(k_dist_fuzzifier_test)\n",
    "    return k_dist_test,y_Labeled.iloc[ind].values   \n",
    "\n",
    "#relationship R for tests\n",
    "def R(ti,lx):\n",
    "    numerator = para_knn_test(ti)[0]\n",
    "    denomerator = disttl[ti][lx]\n",
    "    denomerator = np.power(denomerator,fuzzyfier)\n",
    "    return (numerator/denomerator)\n",
    "\n",
    "#class function test\n",
    "def C(j,lx):\n",
    "    if (y_Labeled.iloc[lx].values== j):\n",
    "        return 1\n",
    "    else:\n",
    "        return 0\n",
    "    \n",
    "#lower approximation function for test\n",
    "\n",
    "def R_lower_test(ti,cj):\n",
    "    rl=[]\n",
    "    for i in range(k):\n",
    "        l_x = knn_index_test[ti][i]\n",
    "        rl.append(min(1,(1 + C(cj,l_x)) -R(ti,l_x)) )\n",
    "    return min(rl) \n",
    "\n",
    "#upper approximation function for test \n",
    "\n",
    "def R_upper_test(ti,cj):\n",
    "    ru=[]\n",
    "    for i in range(k):\n",
    "        l_x = knn_index_test[ti][i]\n",
    "        \n",
    "        ru.append( max(0,(R(ti,l_x)+C(cj,l_x))-1) )\n",
    "    return max(ru) \n",
    "            \n",
    "    "
   ]
  },
  {
   "cell_type": "code",
   "execution_count": 22,
   "metadata": {},
   "outputs": [],
   "source": [
    "#assigning class label\n",
    "#get the most confusing sample from    \n",
    "def get_Class():\n",
    "    \n",
    "    #computing the lower approximation for unlabeled with association of class 1\n",
    "    R_lower_test_1=[]\n",
    "    for i in range(len(X_test_rfe)):\n",
    "        R_lower_test_1.append(R_lower_test(i,1))\n",
    "        \n",
    "    #computing the lower approximation for unlabeled with association of class 2    \n",
    "    R_lower_test_2=[]\n",
    "    for i in range(len(X_test_rfe)):\n",
    "        R_lower_test_2.append(R_lower_test(i,2)) \n",
    "     \n",
    "    #computing the upper approximation for unlabeled with association of class 1\n",
    "    R_upper_test_1=[]\n",
    "    for i in range(len(X_test_rfe)):\n",
    "        R_upper_test_1.append(R_upper_test(i,1))\n",
    "    \n",
    "    #computing the upper approximation for unlabeled with association of class 2\n",
    "    R_upper_test_2=[]\n",
    "    for i in range(len(X_test_rfe)):\n",
    "        R_upper_test_2.append(R_upper_test(i,2))    \n",
    "\n",
    "    \n",
    "    #getting average of the upper and lower approximation and computing normalized ratio for the class 1\n",
    "    avg_test_1= np. add(R_lower_test_1, R_upper_test_1)\n",
    "    avg_test_1 =[e/2 for e in avg_test_1]\n",
    "    \n",
    "   \n",
    "    \n",
    "    #getting average of the upper and lower approximation and computing normalized ratio for the class 1 \n",
    "    avg_test_2= np. add(R_lower_test_2, R_upper_test_2)\n",
    "    avg_test_2 =[e/2 for e in avg_test_2]\n",
    "    \n",
    "    predicted_label = [0] * len(avg_test_1)\n",
    "    for i in range(len(avg_test_1)):\n",
    "        if (avg_test_1[i]>=avg_test_2[i]):\n",
    "            predicted_label[i]=1\n",
    "        else:\n",
    "            predicted_label[i]=2\n",
    "            \n",
    "   \n",
    "    return predicted_label\n"
   ]
  },
  {
   "cell_type": "code",
   "execution_count": 23,
   "metadata": {},
   "outputs": [],
   "source": [
    "predicted_label = get_Class()"
   ]
  },
  {
   "cell_type": "code",
   "execution_count": 24,
   "metadata": {},
   "outputs": [],
   "source": [
    "#performance evaluation metrics"
   ]
  },
  {
   "cell_type": "code",
   "execution_count": 25,
   "metadata": {},
   "outputs": [],
   "source": [
    "#performance evaluation metrics function\n",
    "def get_per_mat(y_test,predicted_label):\n",
    "    \n",
    "    #Confusion matrix\n",
    "    cf = confusion_matrix(y_test,predicted_label)\n",
    "    print('confusion matrix: \\n',cf)\n",
    "    \n",
    "    #accuracy\n",
    "    print('accuracy: ',accuracy_score(y_test,predicted_label))\n",
    "    \n",
    "    #precision\n",
    "    precision = cf[0][0]/(cf[0][0]+cf[1][0])\n",
    "    print('precision: ',precision)\n",
    "    \n",
    "    #recall\n",
    "    recall = cf[0][0]/(cf[0][0]+cf[0][1])\n",
    "    print('recall: ',recall)\n",
    "    \n",
    "    #f-measure\n",
    "    print('f-measure: ',f1_score(y_test,predicted_label))\n",
    "    \n",
    "    #cohen kappa score\n",
    "    print('cohen kappa: ',cohen_kappa_score(y_test,predicted_label))\n",
    "    \n",
    "    return cf"
   ]
  },
  {
   "cell_type": "code",
   "execution_count": 26,
   "metadata": {},
   "outputs": [
    {
     "name": "stdout",
     "output_type": "stream",
     "text": [
      "confusion matrix: \n",
      " [[42  0]\n",
      " [ 3 13]]\n",
      "accuracy:  0.9482758620689655\n",
      "precision:  0.9333333333333333\n",
      "recall:  1.0\n",
      "f-measure:  0.9655172413793104\n",
      "cohen kappa:  0.8625592417061612\n"
     ]
    },
    {
     "data": {
      "text/plain": [
       "array([[42,  0],\n",
       "       [ 3, 13]], dtype=int64)"
      ]
     },
     "execution_count": 26,
     "metadata": {},
     "output_type": "execute_result"
    }
   ],
   "source": [
    "get_per_mat(y_test,predicted_label)"
   ]
  },
  {
   "cell_type": "markdown",
   "metadata": {},
   "source": [
    "### KNN"
   ]
  },
  {
   "cell_type": "code",
   "execution_count": 27,
   "metadata": {},
   "outputs": [
    {
     "data": {
      "text/plain": [
       "(15, 1)"
      ]
     },
     "execution_count": 27,
     "metadata": {},
     "output_type": "execute_result"
    }
   ],
   "source": [
    "y_Labeled.shape"
   ]
  },
  {
   "cell_type": "code",
   "execution_count": 28,
   "metadata": {},
   "outputs": [],
   "source": [
    "X_train, X_test, y_train, y_test = train_test_split(X, y, test_size=0.80, random_state=80)\n"
   ]
  },
  {
   "cell_type": "code",
   "execution_count": 29,
   "metadata": {},
   "outputs": [
    {
     "data": {
      "text/plain": [
       "(15, 1)"
      ]
     },
     "execution_count": 29,
     "metadata": {},
     "output_type": "execute_result"
    }
   ],
   "source": [
    "y_train.shape"
   ]
  },
  {
   "cell_type": "code",
   "execution_count": 30,
   "metadata": {},
   "outputs": [
    {
     "name": "stderr",
     "output_type": "stream",
     "text": [
      "C:\\anaconda\\lib\\site-packages\\ipykernel_launcher.py:2: DataConversionWarning: A column-vector y was passed when a 1d array was expected. Please change the shape of y to (n_samples, ), for example using ravel().\n",
      "  \n"
     ]
    }
   ],
   "source": [
    "\n",
    "\n",
    "model = KNeighborsClassifier(n_neighbors=4)\n",
    "model.fit(X_train,y_train)\n",
    "\n",
    "predicted= model.predict(X_test) \n"
   ]
  },
  {
   "cell_type": "code",
   "execution_count": 31,
   "metadata": {},
   "outputs": [
    {
     "name": "stdout",
     "output_type": "stream",
     "text": [
      "confusion matrix: \n",
      " [[45  0]\n",
      " [17  0]]\n",
      "accuracy:  0.7258064516129032\n",
      "precision:  0.7258064516129032\n",
      "recall:  1.0\n",
      "f-measure:  0.8411214953271028\n",
      "cohen kappa:  0.0\n"
     ]
    },
    {
     "data": {
      "text/plain": [
       "array([[45,  0],\n",
       "       [17,  0]], dtype=int64)"
      ]
     },
     "execution_count": 31,
     "metadata": {},
     "output_type": "execute_result"
    }
   ],
   "source": [
    "get_per_mat(y_test,predicted)"
   ]
  },
  {
   "cell_type": "markdown",
   "metadata": {},
   "source": [
    "### SVM"
   ]
  },
  {
   "cell_type": "code",
   "execution_count": 32,
   "metadata": {},
   "outputs": [
    {
     "name": "stderr",
     "output_type": "stream",
     "text": [
      "C:\\anaconda\\lib\\site-packages\\sklearn\\utils\\validation.py:72: DataConversionWarning: A column-vector y was passed when a 1d array was expected. Please change the shape of y to (n_samples, ), for example using ravel().\n",
      "  return f(**kwargs)\n"
     ]
    }
   ],
   "source": [
    "\n",
    "\n",
    "\n",
    "classifier = svm.SVC(kernel='linear') # We set a SVM classifier, the default SVM Classifier (Kernel = Radial Basis Function)\n",
    "classifier.fit(X_train, y_train) \n",
    "prediction_SVM = classifier.predict(X_test)"
   ]
  },
  {
   "cell_type": "code",
   "execution_count": 33,
   "metadata": {},
   "outputs": [
    {
     "name": "stdout",
     "output_type": "stream",
     "text": [
      "confusion matrix: \n",
      " [[42  3]\n",
      " [ 8  9]]\n",
      "accuracy:  0.8225806451612904\n",
      "precision:  0.84\n",
      "recall:  0.9333333333333333\n",
      "f-measure:  0.8842105263157894\n",
      "cohen kappa:  0.5093525179856115\n"
     ]
    },
    {
     "data": {
      "text/plain": [
       "array([[42,  3],\n",
       "       [ 8,  9]], dtype=int64)"
      ]
     },
     "execution_count": 33,
     "metadata": {},
     "output_type": "execute_result"
    }
   ],
   "source": [
    "get_per_mat(y_test,prediction_SVM)"
   ]
  },
  {
   "cell_type": "code",
   "execution_count": null,
   "metadata": {},
   "outputs": [],
   "source": []
  },
  {
   "cell_type": "code",
   "execution_count": null,
   "metadata": {},
   "outputs": [],
   "source": []
  },
  {
   "cell_type": "code",
   "execution_count": null,
   "metadata": {},
   "outputs": [],
   "source": []
  }
 ],
 "metadata": {
  "kernelspec": {
   "display_name": "Python 3",
   "language": "python",
   "name": "python3"
  },
  "language_info": {
   "codemirror_mode": {
    "name": "ipython",
    "version": 3
   },
   "file_extension": ".py",
   "mimetype": "text/x-python",
   "name": "python",
   "nbconvert_exporter": "python",
   "pygments_lexer": "ipython3",
   "version": "3.7.3"
  }
 },
 "nbformat": 4,
 "nbformat_minor": 2
}
