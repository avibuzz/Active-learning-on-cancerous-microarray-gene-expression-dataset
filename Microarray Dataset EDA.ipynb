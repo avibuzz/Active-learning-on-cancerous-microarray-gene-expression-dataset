{
 "cells": [
  {
   "cell_type": "code",
   "execution_count": 1,
   "metadata": {},
   "outputs": [
    {
     "name": "stderr",
     "output_type": "stream",
     "text": [
      "C:\\anaconda\\lib\\site-packages\\statsmodels\\tools\\_testing.py:19: FutureWarning: pandas.util.testing is deprecated. Use the functions in the public API at pandas.testing instead.\n",
      "  import pandas.util.testing as tm\n"
     ]
    }
   ],
   "source": [
    "import pandas as pd\n",
    "import seaborn as sns\n",
    "import matplotlib.pyplot as plt \n",
    "import warnings\n",
    "warnings.filterwarnings(\"ignore\")"
   ]
  },
  {
   "cell_type": "code",
   "execution_count": 2,
   "metadata": {},
   "outputs": [
    {
     "data": {
      "text/html": [
       "<div>\n",
       "<style scoped>\n",
       "    .dataframe tbody tr th:only-of-type {\n",
       "        vertical-align: middle;\n",
       "    }\n",
       "\n",
       "    .dataframe tbody tr th {\n",
       "        vertical-align: top;\n",
       "    }\n",
       "\n",
       "    .dataframe thead th {\n",
       "        text-align: right;\n",
       "    }\n",
       "</style>\n",
       "<table border=\"1\" class=\"dataframe\">\n",
       "  <thead>\n",
       "    <tr style=\"text-align: right;\">\n",
       "      <th></th>\n",
       "      <th>0</th>\n",
       "      <th>1</th>\n",
       "      <th>2</th>\n",
       "      <th>3</th>\n",
       "      <th>4</th>\n",
       "      <th>5</th>\n",
       "      <th>6</th>\n",
       "      <th>7</th>\n",
       "      <th>8</th>\n",
       "      <th>9</th>\n",
       "      <th>...</th>\n",
       "      <th>12524</th>\n",
       "      <th>12525</th>\n",
       "      <th>12526</th>\n",
       "      <th>12527</th>\n",
       "      <th>12528</th>\n",
       "      <th>12529</th>\n",
       "      <th>12530</th>\n",
       "      <th>12531</th>\n",
       "      <th>12532</th>\n",
       "      <th>12533</th>\n",
       "    </tr>\n",
       "  </thead>\n",
       "  <tbody>\n",
       "    <tr>\n",
       "      <th>0</th>\n",
       "      <td>-11.4</td>\n",
       "      <td>2.7</td>\n",
       "      <td>0.6</td>\n",
       "      <td>4.3</td>\n",
       "      <td>28</td>\n",
       "      <td>0.3</td>\n",
       "      <td>-17.5</td>\n",
       "      <td>-5.4</td>\n",
       "      <td>7.5</td>\n",
       "      <td>-0.9</td>\n",
       "      <td>...</td>\n",
       "      <td>4.1</td>\n",
       "      <td>2.5</td>\n",
       "      <td>5</td>\n",
       "      <td>22.5</td>\n",
       "      <td>7.3</td>\n",
       "      <td>14</td>\n",
       "      <td>19.3</td>\n",
       "      <td>-39.5</td>\n",
       "      <td>37.3</td>\n",
       "      <td>1</td>\n",
       "    </tr>\n",
       "    <tr>\n",
       "      <th>1</th>\n",
       "      <td>-1.0</td>\n",
       "      <td>-1.0</td>\n",
       "      <td>0.0</td>\n",
       "      <td>-1.0</td>\n",
       "      <td>3</td>\n",
       "      <td>0.0</td>\n",
       "      <td>-3.0</td>\n",
       "      <td>1.0</td>\n",
       "      <td>-2.0</td>\n",
       "      <td>0.0</td>\n",
       "      <td>...</td>\n",
       "      <td>10.0</td>\n",
       "      <td>2.0</td>\n",
       "      <td>4</td>\n",
       "      <td>5.0</td>\n",
       "      <td>1.0</td>\n",
       "      <td>6</td>\n",
       "      <td>6.0</td>\n",
       "      <td>0.0</td>\n",
       "      <td>26.0</td>\n",
       "      <td>1</td>\n",
       "    </tr>\n",
       "    <tr>\n",
       "      <th>2</th>\n",
       "      <td>-9.0</td>\n",
       "      <td>-19.0</td>\n",
       "      <td>0.0</td>\n",
       "      <td>0.0</td>\n",
       "      <td>76</td>\n",
       "      <td>9.0</td>\n",
       "      <td>-57.0</td>\n",
       "      <td>35.0</td>\n",
       "      <td>23.0</td>\n",
       "      <td>3.0</td>\n",
       "      <td>...</td>\n",
       "      <td>-66.0</td>\n",
       "      <td>12.0</td>\n",
       "      <td>14</td>\n",
       "      <td>59.0</td>\n",
       "      <td>16.0</td>\n",
       "      <td>-13</td>\n",
       "      <td>-10.0</td>\n",
       "      <td>-156.0</td>\n",
       "      <td>-21.0</td>\n",
       "      <td>1</td>\n",
       "    </tr>\n",
       "  </tbody>\n",
       "</table>\n",
       "<p>3 rows × 12534 columns</p>\n",
       "</div>"
      ],
      "text/plain": [
       "   0      1      2      3      4      5      6      7      8      9      ...  \\\n",
       "0  -11.4    2.7    0.6    4.3     28    0.3  -17.5   -5.4    7.5   -0.9  ...   \n",
       "1   -1.0   -1.0    0.0   -1.0      3    0.0   -3.0    1.0   -2.0    0.0  ...   \n",
       "2   -9.0  -19.0    0.0    0.0     76    9.0  -57.0   35.0   23.0    3.0  ...   \n",
       "\n",
       "   12524  12525  12526  12527  12528  12529  12530  12531  12532  12533  \n",
       "0    4.1    2.5      5   22.5    7.3     14   19.3  -39.5   37.3      1  \n",
       "1   10.0    2.0      4    5.0    1.0      6    6.0    0.0   26.0      1  \n",
       "2  -66.0   12.0     14   59.0   16.0    -13  -10.0 -156.0  -21.0      1  \n",
       "\n",
       "[3 rows x 12534 columns]"
      ]
     },
     "execution_count": 2,
     "metadata": {},
     "output_type": "execute_result"
    }
   ],
   "source": [
    "#reading the microarray gene expression dataset\n",
    "prostate  = pd.read_csv('prostatemattest.txt', header=None,sep='\\t')\n",
    "\n",
    "#lu.isnull().values.any()\n",
    "prostate.head(3)"
   ]
  },
  {
   "cell_type": "code",
   "execution_count": 3,
   "metadata": {},
   "outputs": [],
   "source": [
    "#dividing the data into train-test and labeled- u dataset to \n",
    "y = prostate.iloc[:,[-1]]\n",
    "X = prostate.iloc[:,:-2]"
   ]
  },
  {
   "cell_type": "code",
   "execution_count": 4,
   "metadata": {},
   "outputs": [
    {
     "name": "stdout",
     "output_type": "stream",
     "text": [
      "total number of sample:102\n",
      "total number of gene present:12533\n",
      "dimention of the dataset:(102, 12534)\n"
     ]
    }
   ],
   "source": [
    "# total number of entries and shape of the dataset\n",
    "print ('total number of sample:'+str(len(prostate.index)))\n",
    "print ('total number of gene present:'+str((prostate.shape[1]-1)))\n",
    "print ('dimention of the dataset:'+str(prostate.shape))"
   ]
  },
  {
   "cell_type": "code",
   "execution_count": 5,
   "metadata": {},
   "outputs": [
    {
     "data": {
      "text/plain": [
       "0"
      ]
     },
     "execution_count": 5,
     "metadata": {},
     "output_type": "execute_result"
    }
   ],
   "source": [
    "#null value entries dataset\n",
    "sum(prostate.isnull().sum())"
   ]
  },
  {
   "cell_type": "code",
   "execution_count": null,
   "metadata": {},
   "outputs": [],
   "source": []
  },
  {
   "cell_type": "code",
   "execution_count": 6,
   "metadata": {},
   "outputs": [
    {
     "data": {
      "image/png": "[encoded data removed]",
      "text/plain": [
       "<Figure size 432x288 with 1 Axes>"
      ]
     },
     "metadata": {},
     "output_type": "display_data"
    },
    {
     "name": "stdout",
     "output_type": "stream",
     "text": [
      "percent for class value :\n",
      "12533\n",
      "2        50.980392\n",
      "1        49.019608\n",
      "dtype: float64\n"
     ]
    }
   ],
   "source": [
    "#pie graph for TARGET and its percentage and imbalance \n",
    "plt.pie(y.value_counts(),labels=y.value_counts(),shadow=True, startangle=140) \n",
    "plt.show()\n",
    "print('percent for class value :')\n",
    "print (100*(y.value_counts()/len(y.index)))\n"
   ]
  },
  {
   "cell_type": "code",
   "execution_count": 7,
   "metadata": {},
   "outputs": [
    {
     "data": {
      "text/html": [
       "<div>\n",
       "<style scoped>\n",
       "    .dataframe tbody tr th:only-of-type {\n",
       "        vertical-align: middle;\n",
       "    }\n",
       "\n",
       "    .dataframe tbody tr th {\n",
       "        vertical-align: top;\n",
       "    }\n",
       "\n",
       "    .dataframe thead th {\n",
       "        text-align: right;\n",
       "    }\n",
       "</style>\n",
       "<table border=\"1\" class=\"dataframe\">\n",
       "  <thead>\n",
       "    <tr style=\"text-align: right;\">\n",
       "      <th></th>\n",
       "      <th>0</th>\n",
       "      <th>1</th>\n",
       "      <th>2</th>\n",
       "      <th>3</th>\n",
       "      <th>4</th>\n",
       "      <th>5</th>\n",
       "      <th>6</th>\n",
       "      <th>7</th>\n",
       "      <th>8</th>\n",
       "      <th>9</th>\n",
       "      <th>...</th>\n",
       "      <th>12522</th>\n",
       "      <th>12523</th>\n",
       "      <th>12524</th>\n",
       "      <th>12525</th>\n",
       "      <th>12526</th>\n",
       "      <th>12527</th>\n",
       "      <th>12528</th>\n",
       "      <th>12529</th>\n",
       "      <th>12530</th>\n",
       "      <th>12531</th>\n",
       "    </tr>\n",
       "  </thead>\n",
       "  <tbody>\n",
       "    <tr>\n",
       "      <th>count</th>\n",
       "      <td>102.000000</td>\n",
       "      <td>102.000000</td>\n",
       "      <td>102.000000</td>\n",
       "      <td>102.000000</td>\n",
       "      <td>102.000000</td>\n",
       "      <td>102.000000</td>\n",
       "      <td>102.000000</td>\n",
       "      <td>102.000000</td>\n",
       "      <td>102.000000</td>\n",
       "      <td>102.000000</td>\n",
       "      <td>...</td>\n",
       "      <td>102.000000</td>\n",
       "      <td>102.000000</td>\n",
       "      <td>102.000000</td>\n",
       "      <td>102.000000</td>\n",
       "      <td>102.000000</td>\n",
       "      <td>102.000000</td>\n",
       "      <td>102.000000</td>\n",
       "      <td>102.000000</td>\n",
       "      <td>102.000000</td>\n",
       "      <td>102.000000</td>\n",
       "    </tr>\n",
       "    <tr>\n",
       "      <th>mean</th>\n",
       "      <td>-8.552941</td>\n",
       "      <td>-4.640196</td>\n",
       "      <td>0.309804</td>\n",
       "      <td>1.434314</td>\n",
       "      <td>26.754902</td>\n",
       "      <td>-5.908824</td>\n",
       "      <td>-21.122549</td>\n",
       "      <td>0.525490</td>\n",
       "      <td>8.563725</td>\n",
       "      <td>-1.695098</td>\n",
       "      <td>...</td>\n",
       "      <td>16.738235</td>\n",
       "      <td>68.645098</td>\n",
       "      <td>-6.597059</td>\n",
       "      <td>5.563725</td>\n",
       "      <td>17.166667</td>\n",
       "      <td>20.887255</td>\n",
       "      <td>6.199020</td>\n",
       "      <td>7.931373</td>\n",
       "      <td>13.679412</td>\n",
       "      <td>-53.622549</td>\n",
       "    </tr>\n",
       "    <tr>\n",
       "      <th>std</th>\n",
       "      <td>12.460382</td>\n",
       "      <td>6.931836</td>\n",
       "      <td>4.185749</td>\n",
       "      <td>6.781344</td>\n",
       "      <td>30.729557</td>\n",
       "      <td>18.394425</td>\n",
       "      <td>21.544961</td>\n",
       "      <td>12.233695</td>\n",
       "      <td>17.264923</td>\n",
       "      <td>4.080535</td>\n",
       "      <td>...</td>\n",
       "      <td>23.108247</td>\n",
       "      <td>55.685431</td>\n",
       "      <td>22.305407</td>\n",
       "      <td>8.618329</td>\n",
       "      <td>23.175219</td>\n",
       "      <td>22.445964</td>\n",
       "      <td>10.054628</td>\n",
       "      <td>12.767735</td>\n",
       "      <td>38.277725</td>\n",
       "      <td>56.525445</td>\n",
       "    </tr>\n",
       "    <tr>\n",
       "      <th>min</th>\n",
       "      <td>-98.000000</td>\n",
       "      <td>-33.000000</td>\n",
       "      <td>-16.000000</td>\n",
       "      <td>-11.000000</td>\n",
       "      <td>-3.000000</td>\n",
       "      <td>-96.000000</td>\n",
       "      <td>-87.000000</td>\n",
       "      <td>-55.000000</td>\n",
       "      <td>-80.000000</td>\n",
       "      <td>-16.000000</td>\n",
       "      <td>...</td>\n",
       "      <td>-25.000000</td>\n",
       "      <td>11.000000</td>\n",
       "      <td>-110.000000</td>\n",
       "      <td>-12.000000</td>\n",
       "      <td>-10.000000</td>\n",
       "      <td>-4.000000</td>\n",
       "      <td>-6.000000</td>\n",
       "      <td>-13.000000</td>\n",
       "      <td>-71.000000</td>\n",
       "      <td>-187.000000</td>\n",
       "    </tr>\n",
       "    <tr>\n",
       "      <th>25%</th>\n",
       "      <td>-10.000000</td>\n",
       "      <td>-7.000000</td>\n",
       "      <td>-1.000000</td>\n",
       "      <td>-2.000000</td>\n",
       "      <td>7.000000</td>\n",
       "      <td>-8.750000</td>\n",
       "      <td>-30.000000</td>\n",
       "      <td>-3.000000</td>\n",
       "      <td>-0.750000</td>\n",
       "      <td>-3.000000</td>\n",
       "      <td>...</td>\n",
       "      <td>6.000000</td>\n",
       "      <td>31.250000</td>\n",
       "      <td>-9.750000</td>\n",
       "      <td>1.000000</td>\n",
       "      <td>5.000000</td>\n",
       "      <td>5.250000</td>\n",
       "      <td>0.000000</td>\n",
       "      <td>1.000000</td>\n",
       "      <td>-3.750000</td>\n",
       "      <td>-81.000000</td>\n",
       "    </tr>\n",
       "    <tr>\n",
       "      <th>50%</th>\n",
       "      <td>-5.000000</td>\n",
       "      <td>-3.000000</td>\n",
       "      <td>0.000000</td>\n",
       "      <td>0.000000</td>\n",
       "      <td>14.000000</td>\n",
       "      <td>-1.000000</td>\n",
       "      <td>-13.000000</td>\n",
       "      <td>0.000000</td>\n",
       "      <td>6.000000</td>\n",
       "      <td>-1.000000</td>\n",
       "      <td>...</td>\n",
       "      <td>11.000000</td>\n",
       "      <td>48.500000</td>\n",
       "      <td>2.000000</td>\n",
       "      <td>3.000000</td>\n",
       "      <td>12.000000</td>\n",
       "      <td>11.000000</td>\n",
       "      <td>3.000000</td>\n",
       "      <td>6.000000</td>\n",
       "      <td>5.500000</td>\n",
       "      <td>-27.500000</td>\n",
       "    </tr>\n",
       "    <tr>\n",
       "      <th>75%</th>\n",
       "      <td>-2.000000</td>\n",
       "      <td>-1.000000</td>\n",
       "      <td>1.000000</td>\n",
       "      <td>3.000000</td>\n",
       "      <td>32.750000</td>\n",
       "      <td>1.000000</td>\n",
       "      <td>-4.250000</td>\n",
       "      <td>3.750000</td>\n",
       "      <td>14.000000</td>\n",
       "      <td>0.000000</td>\n",
       "      <td>...</td>\n",
       "      <td>19.000000</td>\n",
       "      <td>90.750000</td>\n",
       "      <td>7.000000</td>\n",
       "      <td>7.000000</td>\n",
       "      <td>20.750000</td>\n",
       "      <td>27.000000</td>\n",
       "      <td>7.825000</td>\n",
       "      <td>12.000000</td>\n",
       "      <td>21.000000</td>\n",
       "      <td>-11.250000</td>\n",
       "    </tr>\n",
       "    <tr>\n",
       "      <th>max</th>\n",
       "      <td>7.000000</td>\n",
       "      <td>19.000000</td>\n",
       "      <td>17.000000</td>\n",
       "      <td>38.000000</td>\n",
       "      <td>182.000000</td>\n",
       "      <td>25.000000</td>\n",
       "      <td>3.000000</td>\n",
       "      <td>46.000000</td>\n",
       "      <td>61.000000</td>\n",
       "      <td>15.000000</td>\n",
       "      <td>...</td>\n",
       "      <td>114.000000</td>\n",
       "      <td>291.000000</td>\n",
       "      <td>18.000000</td>\n",
       "      <td>47.000000</td>\n",
       "      <td>140.000000</td>\n",
       "      <td>118.000000</td>\n",
       "      <td>52.000000</td>\n",
       "      <td>97.000000</td>\n",
       "      <td>173.000000</td>\n",
       "      <td>0.000000</td>\n",
       "    </tr>\n",
       "  </tbody>\n",
       "</table>\n",
       "<p>8 rows × 12532 columns</p>\n",
       "</div>"
      ],
      "text/plain": [
       "            0           1           2           3           4           5      \\\n",
       "count  102.000000  102.000000  102.000000  102.000000  102.000000  102.000000   \n",
       "mean    -8.552941   -4.640196    0.309804    1.434314   26.754902   -5.908824   \n",
       "std     12.460382    6.931836    4.185749    6.781344   30.729557   18.394425   \n",
       "min    -98.000000  -33.000000  -16.000000  -11.000000   -3.000000  -96.000000   \n",
       "25%    -10.000000   -7.000000   -1.000000   -2.000000    7.000000   -8.750000   \n",
       "50%     -5.000000   -3.000000    0.000000    0.000000   14.000000   -1.000000   \n",
       "75%     -2.000000   -1.000000    1.000000    3.000000   32.750000    1.000000   \n",
       "max      7.000000   19.000000   17.000000   38.000000  182.000000   25.000000   \n",
       "\n",
       "            6           7           8           9      ...       12522  \\\n",
       "count  102.000000  102.000000  102.000000  102.000000  ...  102.000000   \n",
       "mean   -21.122549    0.525490    8.563725   -1.695098  ...   16.738235   \n",
       "std     21.544961   12.233695   17.264923    4.080535  ...   23.108247   \n",
       "min    -87.000000  -55.000000  -80.000000  -16.000000  ...  -25.000000   \n",
       "25%    -30.000000   -3.000000   -0.750000   -3.000000  ...    6.000000   \n",
       "50%    -13.000000    0.000000    6.000000   -1.000000  ...   11.000000   \n",
       "75%     -4.250000    3.750000   14.000000    0.000000  ...   19.000000   \n",
       "max      3.000000   46.000000   61.000000   15.000000  ...  114.000000   \n",
       "\n",
       "            12523       12524       12525       12526       12527       12528  \\\n",
       "count  102.000000  102.000000  102.000000  102.000000  102.000000  102.000000   \n",
       "mean    68.645098   -6.597059    5.563725   17.166667   20.887255    6.199020   \n",
       "std     55.685431   22.305407    8.618329   23.175219   22.445964   10.054628   \n",
       "min     11.000000 -110.000000  -12.000000  -10.000000   -4.000000   -6.000000   \n",
       "25%     31.250000   -9.750000    1.000000    5.000000    5.250000    0.000000   \n",
       "50%     48.500000    2.000000    3.000000   12.000000   11.000000    3.000000   \n",
       "75%     90.750000    7.000000    7.000000   20.750000   27.000000    7.825000   \n",
       "max    291.000000   18.000000   47.000000  140.000000  118.000000   52.000000   \n",
       "\n",
       "            12529       12530       12531  \n",
       "count  102.000000  102.000000  102.000000  \n",
       "mean     7.931373   13.679412  -53.622549  \n",
       "std     12.767735   38.277725   56.525445  \n",
       "min    -13.000000  -71.000000 -187.000000  \n",
       "25%      1.000000   -3.750000  -81.000000  \n",
       "50%      6.000000    5.500000  -27.500000  \n",
       "75%     12.000000   21.000000  -11.250000  \n",
       "max     97.000000  173.000000    0.000000  \n",
       "\n",
       "[8 rows x 12532 columns]"
      ]
     },
     "execution_count": 7,
     "metadata": {},
     "output_type": "execute_result"
    }
   ],
   "source": [
    "X.describe()"
   ]
  },
  {
   "cell_type": "code",
   "execution_count": 8,
   "metadata": {},
   "outputs": [],
   "source": [
    "#PCA "
   ]
  },
  {
   "cell_type": "code",
   "execution_count": 9,
   "metadata": {},
   "outputs": [
    {
     "data": {
      "text/plain": [
       "(102, 2)"
      ]
     },
     "execution_count": 9,
     "metadata": {},
     "output_type": "execute_result"
    }
   ],
   "source": [
    "# Importing PCA\n",
    "from sklearn.decomposition import PCA\n",
    "\n",
    "# Let's say, components = 2\n",
    "pca = PCA(n_components = 2)\n",
    "pca.fit(X)\n",
    "x_pca = pca.transform(X)\n",
    "\n",
    "x_pca.shape\n"
   ]
  },
  {
   "cell_type": "code",
   "execution_count": 12,
   "metadata": {},
   "outputs": [
    {
     "data": {
      "text/plain": [
       "Text(0, 0.5, 'Second Principal Component')"
      ]
     },
     "execution_count": 12,
     "metadata": {},
     "output_type": "execute_result"
    },
    {
     "data": {
      "image/png": "[encoded data removed]",
      "text/plain": [
       "<Figure size 576x432 with 1 Axes>"
      ]
     },
     "metadata": {
      "needs_background": "light"
     },
     "output_type": "display_data"
    }
   ],
   "source": [
    "# giving a larger plot\n",
    "plt.figure(figsize =(8, 6))\n",
    "\n",
    "plt.scatter(x_pca[:, 0], x_pca[:, 1], c = y[12533], cmap ='plasma')\n",
    "\n",
    "# labeling x and y axes\n",
    "plt.xlabel('First Principal Component')\n",
    "plt.ylabel('Second Principal Component')\n"
   ]
  },
  {
   "cell_type": "code",
   "execution_count": 13,
   "metadata": {},
   "outputs": [],
   "source": [
    "#y"
   ]
  },
  {
   "cell_type": "code",
   "execution_count": null,
   "metadata": {},
   "outputs": [],
   "source": []
  },
  {
   "cell_type": "code",
   "execution_count": null,
   "metadata": {},
   "outputs": [],
   "source": []
  },
  {
   "cell_type": "code",
   "execution_count": null,
   "metadata": {},
   "outputs": [],
   "source": []
  }
 ],
 "metadata": {
  "kernelspec": {
   "display_name": "Python 3",
   "language": "python",
   "name": "python3"
  },
  "language_info": {
   "codemirror_mode": {
    "name": "ipython",
    "version": 3
   },
   "file_extension": ".py",
   "mimetype": "text/x-python",
   "name": "python",
   "nbconvert_exporter": "python",
   "pygments_lexer": "ipython3",
   "version": "3.7.3"
  }
 },
 "nbformat": 4,
 "nbformat_minor": 2
}
