{
 "cells": [
  {
   "cell_type": "code",
   "execution_count": 1,
   "metadata": {},
   "outputs": [],
   "source": [
    "#import \n",
    "import pandas as pd\n",
    "from sklearn.model_selection import train_test_split\n",
    "from sklearn.metrics.pairwise import euclidean_distances\n",
    "import numpy as np\n",
    "from sklearn.metrics import accuracy_score\n",
    "from sklearn.metrics import confusion_matrix\n",
    "from sklearn.metrics import f1_score\n",
    "from sklearn.metrics import cohen_kappa_score\n",
    "from sklearn.neighbors import KNeighborsClassifier\n",
    "from sklearn import svm\n",
    "from sklearn.feature_selection import RFE"
   ]
  },
  {
   "cell_type": "code",
   "execution_count": 2,
   "metadata": {},
   "outputs": [],
   "source": [
    "#parameter\n",
    "k=2\n",
    "m=2\n",
    "N=2 #number of class  \n",
    "tou =0.3 # threshold\n",
    "\n",
    "#fuzzyfier\n",
    "fuzzyfier = 2/(m-1) "
   ]
  },
  {
   "cell_type": "code",
   "execution_count": 3,
   "metadata": {},
   "outputs": [
    {
     "data": {
      "text/html": [
       "<div>\n",
       "<style scoped>\n",
       "    .dataframe tbody tr th:only-of-type {\n",
       "        vertical-align: middle;\n",
       "    }\n",
       "\n",
       "    .dataframe tbody tr th {\n",
       "        vertical-align: top;\n",
       "    }\n",
       "\n",
       "    .dataframe thead th {\n",
       "        text-align: right;\n",
       "    }\n",
       "</style>\n",
       "<table border=\"1\" class=\"dataframe\">\n",
       "  <thead>\n",
       "    <tr style=\"text-align: right;\">\n",
       "      <th></th>\n",
       "      <th>0</th>\n",
       "      <th>1</th>\n",
       "      <th>2</th>\n",
       "      <th>3</th>\n",
       "      <th>4</th>\n",
       "      <th>5</th>\n",
       "      <th>6</th>\n",
       "      <th>7</th>\n",
       "      <th>8</th>\n",
       "      <th>9</th>\n",
       "      <th>...</th>\n",
       "      <th>5138</th>\n",
       "      <th>5139</th>\n",
       "      <th>5140</th>\n",
       "      <th>5141</th>\n",
       "      <th>5142</th>\n",
       "      <th>5143</th>\n",
       "      <th>5144</th>\n",
       "      <th>5145</th>\n",
       "      <th>5146</th>\n",
       "      <th>5147</th>\n",
       "    </tr>\n",
       "  </thead>\n",
       "  <tbody>\n",
       "    <tr>\n",
       "      <th>0</th>\n",
       "      <td>88</td>\n",
       "      <td>15091</td>\n",
       "      <td>311</td>\n",
       "      <td>21</td>\n",
       "      <td>-13</td>\n",
       "      <td>215</td>\n",
       "      <td>797</td>\n",
       "      <td>14538</td>\n",
       "      <td>9738</td>\n",
       "      <td>8529</td>\n",
       "      <td>...</td>\n",
       "      <td>1582</td>\n",
       "      <td>185</td>\n",
       "      <td>511</td>\n",
       "      <td>389</td>\n",
       "      <td>793</td>\n",
       "      <td>329</td>\n",
       "      <td>36</td>\n",
       "      <td>191</td>\n",
       "      <td>-37</td>\n",
       "      <td>1</td>\n",
       "    </tr>\n",
       "    <tr>\n",
       "      <th>1</th>\n",
       "      <td>283</td>\n",
       "      <td>11038</td>\n",
       "      <td>134</td>\n",
       "      <td>-21</td>\n",
       "      <td>-219</td>\n",
       "      <td>116</td>\n",
       "      <td>433</td>\n",
       "      <td>615</td>\n",
       "      <td>115</td>\n",
       "      <td>1518</td>\n",
       "      <td>...</td>\n",
       "      <td>624</td>\n",
       "      <td>169</td>\n",
       "      <td>837</td>\n",
       "      <td>442</td>\n",
       "      <td>782</td>\n",
       "      <td>295</td>\n",
       "      <td>11</td>\n",
       "      <td>76</td>\n",
       "      <td>-14</td>\n",
       "      <td>1</td>\n",
       "    </tr>\n",
       "    <tr>\n",
       "      <th>2</th>\n",
       "      <td>309</td>\n",
       "      <td>16692</td>\n",
       "      <td>378</td>\n",
       "      <td>67</td>\n",
       "      <td>104</td>\n",
       "      <td>476</td>\n",
       "      <td>1474</td>\n",
       "      <td>5669</td>\n",
       "      <td>3272</td>\n",
       "      <td>3668</td>\n",
       "      <td>...</td>\n",
       "      <td>753</td>\n",
       "      <td>315</td>\n",
       "      <td>1199</td>\n",
       "      <td>168</td>\n",
       "      <td>1138</td>\n",
       "      <td>777</td>\n",
       "      <td>41</td>\n",
       "      <td>228</td>\n",
       "      <td>-41</td>\n",
       "      <td>1</td>\n",
       "    </tr>\n",
       "  </tbody>\n",
       "</table>\n",
       "<p>3 rows × 5148 columns</p>\n",
       "</div>"
      ],
      "text/plain": [
       "   0      1     2     3     4     5     6      7     8     9     ...  5138  \\\n",
       "0    88  15091   311    21   -13   215   797  14538  9738  8529  ...  1582   \n",
       "1   283  11038   134   -21  -219   116   433    615   115  1518  ...   624   \n",
       "2   309  16692   378    67   104   476  1474   5669  3272  3668  ...   753   \n",
       "\n",
       "   5139  5140  5141  5142  5143  5144  5145  5146  5147  \n",
       "0   185   511   389   793   329    36   191   -37     1  \n",
       "1   169   837   442   782   295    11    76   -14     1  \n",
       "2   315  1199   168  1138   777    41   228   -41     1  \n",
       "\n",
       "[3 rows x 5148 columns]"
      ]
     },
     "execution_count": 3,
     "metadata": {},
     "output_type": "execute_result"
    }
   ],
   "source": [
    "#reading the microarray gene expression dataset\n",
    "lu = pd.read_csv('Leukaemiamattest.txt', header=None,sep='\\t')\n",
    "\n",
    "#lu.isnull().values.any()\n",
    "lu.head(3)"
   ]
  },
  {
   "cell_type": "code",
   "execution_count": 4,
   "metadata": {},
   "outputs": [],
   "source": [
    "#dividing the data into train-test and labeled- u dataset to \n",
    "y = lu.iloc[:,[-1]]\n",
    "X = lu.iloc[:,:-2]\n",
    "\n",
    "X_train, X_test, y_train, y_test = train_test_split(X, y, test_size=0.7, random_state=42)\n",
    "\n"
   ]
  },
  {
   "cell_type": "code",
   "execution_count": 5,
   "metadata": {},
   "outputs": [
    {
     "data": {
      "text/plain": [
       "5147\n",
       "1       12\n",
       "2        9\n",
       "dtype: int64"
      ]
     },
     "execution_count": 5,
     "metadata": {},
     "output_type": "execute_result"
    }
   ],
   "source": [
    "y_train.value_counts()"
   ]
  },
  {
   "cell_type": "code",
   "execution_count": 6,
   "metadata": {},
   "outputs": [],
   "source": [
    "###### RFE\n",
    "from sklearn.feature_selection import RFE\n",
    "from sklearn.linear_model import LinearRegression\n",
    "\n",
    "\n",
    "\n",
    "\n",
    "lm = LinearRegression()\n",
    "lm.fit(X_train,y_train)\n",
    "\n",
    "\n",
    "rfe = RFE(lm, n_features_to_select=150)\n",
    "rfe = rfe.fit(X_train, y_train)\n",
    "X_train_rfe = X_train[X_train.columns[rfe.support_]]\n",
    "X_test_rfe = X_test[X_test.columns[rfe.support_]]\n"
   ]
  },
  {
   "cell_type": "code",
   "execution_count": 7,
   "metadata": {},
   "outputs": [
    {
     "data": {
      "text/plain": [
       "'X_train_rfe =X_train\\nX_test_rfe = X_test'"
      ]
     },
     "execution_count": 7,
     "metadata": {},
     "output_type": "execute_result"
    }
   ],
   "source": [
    "'''X_train_rfe =X_train\n",
    "X_test_rfe = X_test'''\n",
    "\n"
   ]
  },
  {
   "cell_type": "code",
   "execution_count": 8,
   "metadata": {},
   "outputs": [],
   "source": [
    "X_Labeled , X_unLabeled, y_Labeled, y_unLabeled = train_test_split(X_train_rfe, y_train, test_size=0.60, random_state=42)"
   ]
  },
  {
   "cell_type": "code",
   "execution_count": 9,
   "metadata": {},
   "outputs": [
    {
     "data": {
      "text/plain": [
       "5147\n",
       "1       6\n",
       "2       2\n",
       "dtype: int64"
      ]
     },
     "execution_count": 9,
     "metadata": {},
     "output_type": "execute_result"
    }
   ],
   "source": [
    "y_Labeled.value_counts()"
   ]
  },
  {
   "cell_type": "code",
   "execution_count": 10,
   "metadata": {},
   "outputs": [],
   "source": [
    "#computing euclidean distance for each unlabeled data point to labeled data point\n",
    "distul = euclidean_distances(X_unLabeled, X_Labeled)"
   ]
  },
  {
   "cell_type": "code",
   "execution_count": 11,
   "metadata": {},
   "outputs": [],
   "source": [
    "#array of index of nearest neighbour\n",
    "knn_index=[]\n",
    "for i in range(len(distul)) :\n",
    "    knn_index.append (np.argsort(distul[i]))"
   ]
  },
  {
   "cell_type": "code",
   "execution_count": 12,
   "metadata": {},
   "outputs": [],
   "source": [
    "#function to get distance from knn and its class\n",
    "\n",
    "def para_knn(i):\n",
    "    #print (distul[i])\n",
    "    #print (knn_index[i][:k])\n",
    "    ind = knn_index[i][:k]\n",
    "    #print([i for i in distul[i][ind]])\n",
    "    k_dist = [i for i in distul[i][ind]]\n",
    "    k_dist_fuzzifier =  np.power(k_dist,fuzzyfier) \n",
    "    k_dist = sum(k_dist_fuzzifier)\n",
    "    #print(y_Labeled.iloc[ind])\n",
    "       \n",
    "    \n",
    "    return k_dist,y_Labeled.iloc[ind].values"
   ]
  },
  {
   "cell_type": "code",
   "execution_count": null,
   "metadata": {},
   "outputs": [],
   "source": []
  },
  {
   "cell_type": "code",
   "execution_count": 13,
   "metadata": {},
   "outputs": [],
   "source": [
    "#relationship R\n",
    "\n",
    "def R(ui,lx):\n",
    "    numerator = para_knn(ui)[0]\n",
    "    denomerator = distul[ui][lx]\n",
    "    denomerator = np.power(denomerator,fuzzyfier)\n",
    "    return (numerator/denomerator)\n",
    "\n",
    "    "
   ]
  },
  {
   "cell_type": "code",
   "execution_count": 14,
   "metadata": {},
   "outputs": [],
   "source": [
    "#class function \n",
    "\n",
    "def C(j,lx):\n",
    "    if (y_Labeled.iloc[lx].values== j):\n",
    "        return 1\n",
    "    else:\n",
    "        return 0"
   ]
  },
  {
   "cell_type": "code",
   "execution_count": null,
   "metadata": {},
   "outputs": [],
   "source": []
  },
  {
   "cell_type": "code",
   "execution_count": 15,
   "metadata": {},
   "outputs": [],
   "source": [
    "\n",
    "#lower approximation function\n",
    "\n",
    "def R_lower(ui,cj):\n",
    "    rl=[]\n",
    "    for i in range(k):\n",
    "        l_x = knn_index[ui][i]\n",
    "        rl.append(min(1,(1 + C(cj,l_x)) -R(ui,l_x)) )\n",
    "    return min(rl)    \n",
    "            \n",
    "        "
   ]
  },
  {
   "cell_type": "code",
   "execution_count": 16,
   "metadata": {},
   "outputs": [],
   "source": [
    "#upper approximation function\n",
    "\n",
    "def R_upper(ui,cj):\n",
    "    ru=[]\n",
    "    for i in range(k):\n",
    "        l_x = knn_index[ui][i]\n",
    "        \n",
    "        ru.append( max(0,(R(ui,l_x)+C(cj,l_x))-1) )\n",
    "    return max(ru) "
   ]
  },
  {
   "cell_type": "code",
   "execution_count": 17,
   "metadata": {},
   "outputs": [],
   "source": [
    "#get the most confusing sample from    \n",
    "def get_R():\n",
    "    \n",
    "    #computing the lower approximation for unlabeled with association of class 1\n",
    "    R_lower_1=[]\n",
    "    for i in range(len(X_unLabeled)):\n",
    "        R_lower_1.append(R_lower(i,1))\n",
    "        \n",
    "    #computing the lower approximation for unlabeled with association of class 2    \n",
    "    R_lower_2=[]\n",
    "    for i in range(len(X_unLabeled)):\n",
    "        R_lower_2.append(R_lower(i,2)) \n",
    "     \n",
    "    #computing the upper approximation for unlabeled with association of class 1\n",
    "    R_upper_1=[]\n",
    "    for i in range(len(X_unLabeled)):\n",
    "        R_upper_1.append(R_upper(i,1))\n",
    "    \n",
    "    #computing the upper approximation for unlabeled with association of class 2\n",
    "    R_upper_2=[]\n",
    "    for i in range(len(X_unLabeled)):\n",
    "        R_upper_2.append(R_upper(i,2))    \n",
    "\n",
    "    \n",
    "    #getting average of the upper and lower approximation and computing normalized ratio for the class 1\n",
    "    avg_for_1= np. add(R_lower_1, R_upper_1)\n",
    "    avg_for_1 =[e/2 for e in avg_for_1]\n",
    "    max_h1=max(avg_for_1)\n",
    "    avg_for_1 = [e/max_h1 for e in avg_for_1]\n",
    "    \n",
    "    #getting average of the upper and lower approximation and computing normalized ratio for the class 1 \n",
    "    avg_for_2= np. add(R_lower_2, R_upper_2)\n",
    "    avg_for_2 =[e/2 for e in avg_for_2]\n",
    "    max_h2=max(avg_for_2)\n",
    "    avg_for_2 = [e/max_h2 for e in avg_for_2]\n",
    "    max_ratio=0\n",
    "    conf_index=0\n",
    "    \n",
    "    for i in range(len(y_unLabeled)):\n",
    "        if (y_unLabeled.iloc[i].values == 2):\n",
    "            print('ind: ',[i],avg_for_1[i])\n",
    "            if(avg_for_1[i]>max_ratio):\n",
    "                max_ratio =avg_for_1[i]\n",
    "                conf_index = X_unLabeled.index[i]\n",
    "                \n",
    "   \n",
    "    for i in range(len(y_unLabeled)):\n",
    "        if (y_unLabeled.iloc[i].values == 1):\n",
    "            print('ind: ',[i],avg_for_2[i])\n",
    "            if(avg_for_2[i]>max_ratio):\n",
    "                max_ratio =avg_for_2[i]\n",
    "                conf_index = X_unLabeled.index[i]\n",
    "                \n",
    "                \n",
    "    if (max_ratio >= tou):\n",
    "        return ( max_ratio, conf_index)\n",
    "    return ( max_ratio, conf_index)"
   ]
  },
  {
   "cell_type": "code",
   "execution_count": 18,
   "metadata": {},
   "outputs": [],
   "source": [
    "#function for transfer of sample for unlabeled data pattern to labeled data pattern\n",
    "def transfer_sample(In):\n",
    "    global X_Labeled \n",
    "    global y_Labeled \n",
    "    global X_unLabeled \n",
    "    global y_unLabeled \n",
    "    X_Labeled = X_Labeled.append(X_unLabeled.loc[In])\n",
    "    y_Labeled = y_Labeled.append(y_unLabeled.loc[In])\n",
    "    X_unLabeled = X_unLabeled.drop([In])\n",
    "    y_unLabeled = y_unLabeled.drop([In])\n",
    "    print('sampled moved')\n"
   ]
  },
  {
   "cell_type": "code",
   "execution_count": 19,
   "metadata": {
    "scrolled": false
   },
   "outputs": [
    {
     "name": "stdout",
     "output_type": "stream",
     "text": [
      "ind:  [4] 1.0\n",
      "ind:  [5] 1.0\n",
      "ind:  [6] 1.0\n",
      "ind:  [7] 0.009279348675189869\n",
      "ind:  [8] 1.0\n",
      "ind:  [11] 1.0\n",
      "ind:  [12] 1.0\n",
      "ind:  [0] 0.0\n",
      "ind:  [1] 0.0\n",
      "ind:  [2] 0.0\n",
      "ind:  [3] 0.0\n",
      "ind:  [9] 0.0\n",
      "ind:  [10] 0.0\n",
      "ind:  [4] 1.0\n",
      "ind:  [5] 1.0\n",
      "ind:  [6] 1.0\n",
      "ind:  [7] 0.009279348675189869\n",
      "ind:  [8] 1.0\n",
      "ind:  [11] 1.0\n",
      "ind:  [12] 1.0\n",
      "ind:  [0] 0.0\n",
      "ind:  [1] 0.0\n",
      "ind:  [2] 0.0\n",
      "ind:  [3] 0.0\n",
      "ind:  [9] 0.0\n",
      "ind:  [10] 0.0\n",
      "sampled moved\n",
      "ind:  [4] 1.0\n",
      "ind:  [5] 1.0\n",
      "ind:  [6] 1.0\n",
      "ind:  [7] 0.009279348675189869\n",
      "ind:  [10] 1.0\n",
      "ind:  [11] 1.0\n",
      "ind:  [0] 0.0\n",
      "ind:  [1] 0.0\n",
      "ind:  [2] 0.0\n",
      "ind:  [3] 0.0\n",
      "ind:  [8] 0.0\n",
      "ind:  [9] 0.0\n",
      "ind:  [4] 1.0\n",
      "ind:  [5] 1.0\n",
      "ind:  [6] 1.0\n",
      "ind:  [7] 0.009279348675189869\n",
      "ind:  [10] 1.0\n",
      "ind:  [11] 1.0\n",
      "ind:  [0] 0.0\n",
      "ind:  [1] 0.0\n",
      "ind:  [2] 0.0\n",
      "ind:  [3] 0.0\n",
      "ind:  [8] 0.0\n",
      "ind:  [9] 0.0\n",
      "sampled moved\n",
      "ind:  [4] 1.0\n",
      "ind:  [5] 1.0\n",
      "ind:  [6] 1.0\n",
      "ind:  [9] 1.0\n",
      "ind:  [10] 1.0\n",
      "ind:  [0] 0.0\n",
      "ind:  [1] 0.0\n",
      "ind:  [2] 0.0\n",
      "ind:  [3] 0.0\n",
      "ind:  [7] 1.0\n",
      "ind:  [8] 0.0\n",
      "ind:  [4] 1.0\n",
      "ind:  [5] 1.0\n",
      "ind:  [6] 1.0\n",
      "ind:  [9] 1.0\n",
      "ind:  [10] 1.0\n",
      "ind:  [0] 0.0\n",
      "ind:  [1] 0.0\n",
      "ind:  [2] 0.0\n",
      "ind:  [3] 0.0\n",
      "ind:  [7] 1.0\n",
      "ind:  [8] 0.0\n",
      "sampled moved\n",
      "ind:  [4] 1.0\n",
      "ind:  [5] 1.0\n",
      "ind:  [8] 1.0\n",
      "ind:  [9] 1.0\n",
      "ind:  [0] 0.0\n",
      "ind:  [1] 0.0\n",
      "ind:  [2] 0.0\n",
      "ind:  [3] 0.0\n",
      "ind:  [6] 0.0\n",
      "ind:  [7] 1.0\n",
      "ind:  [4] 1.0\n",
      "ind:  [5] 1.0\n",
      "ind:  [8] 1.0\n",
      "ind:  [9] 1.0\n",
      "ind:  [0] 0.0\n",
      "ind:  [1] 0.0\n",
      "ind:  [2] 0.0\n",
      "ind:  [3] 0.0\n",
      "ind:  [6] 0.0\n",
      "ind:  [7] 1.0\n",
      "sampled moved\n",
      "ind:  [4] 1.0\n",
      "ind:  [7] 0.009279348675189869\n",
      "ind:  [8] 1.0\n",
      "ind:  [0] 0.0\n",
      "ind:  [1] 0.0\n",
      "ind:  [2] 0.0\n",
      "ind:  [3] 0.0\n",
      "ind:  [5] 0.0\n",
      "ind:  [6] 0.0\n",
      "ind:  [4] 1.0\n",
      "ind:  [7] 0.009279348675189869\n",
      "ind:  [8] 1.0\n",
      "ind:  [0] 0.0\n",
      "ind:  [1] 0.0\n",
      "ind:  [2] 0.0\n",
      "ind:  [3] 0.0\n",
      "ind:  [5] 0.0\n",
      "ind:  [6] 0.0\n",
      "sampled moved\n",
      "ind:  [6] 1.0\n",
      "ind:  [7] 0.009279348675189869\n",
      "ind:  [0] 0.0\n",
      "ind:  [1] 0.0\n",
      "ind:  [2] 0.0\n",
      "ind:  [3] 0.0\n",
      "ind:  [4] 0.0\n",
      "ind:  [5] 0.0\n",
      "ind:  [6] 1.0\n",
      "ind:  [7] 0.009279348675189869\n",
      "ind:  [0] 0.0\n",
      "ind:  [1] 0.0\n",
      "ind:  [2] 0.0\n",
      "ind:  [3] 0.0\n",
      "ind:  [4] 0.0\n",
      "ind:  [5] 0.0\n",
      "sampled moved\n",
      "ind:  [6] 1.0\n",
      "ind:  [0] nan\n",
      "ind:  [1] nan\n",
      "ind:  [2] nan\n",
      "ind:  [3] nan\n",
      "ind:  [4] nan\n",
      "ind:  [5] nan\n",
      "ind:  [6] 1.0\n",
      "ind:  [0] nan\n",
      "ind:  [1] nan\n",
      "ind:  [2] nan\n",
      "ind:  [3] nan\n",
      "ind:  [4] nan\n",
      "ind:  [5] nan\n",
      "sampled moved\n",
      "ind:  [0] nan\n",
      "ind:  [1] nan\n",
      "ind:  [2] nan\n",
      "ind:  [3] nan\n",
      "ind:  [4] nan\n",
      "ind:  [5] nan\n"
     ]
    },
    {
     "name": "stderr",
     "output_type": "stream",
     "text": [
      "C:\\anaconda\\lib\\site-packages\\ipykernel_launcher.py:35: RuntimeWarning: invalid value encountered in double_scalars\n"
     ]
    }
   ],
   "source": [
    "\n",
    "while(get_R()[0]>tou):\n",
    "    transfer_sample(get_R()[1])\n"
   ]
  },
  {
   "cell_type": "code",
   "execution_count": null,
   "metadata": {},
   "outputs": [],
   "source": []
  },
  {
   "cell_type": "code",
   "execution_count": 20,
   "metadata": {},
   "outputs": [
    {
     "data": {
      "text/plain": [
       "15"
      ]
     },
     "execution_count": 20,
     "metadata": {},
     "output_type": "execute_result"
    }
   ],
   "source": [
    "len(X_Labeled)"
   ]
  },
  {
   "cell_type": "code",
   "execution_count": 21,
   "metadata": {},
   "outputs": [],
   "source": [
    "#testing \n",
    "\n",
    "#computing euclidean distance for each test data point to labeled data point\n",
    "disttl = euclidean_distances(X_test_rfe, X_Labeled)\n",
    "\n",
    "#array of index of nearest neighbour\n",
    "knn_index_test=[]\n",
    "for i in range(len(disttl)) :\n",
    "    knn_index_test.append (np.argsort(disttl[i]))\n",
    "    \n",
    "#function to get distance from knn and its class\n",
    "def para_knn_test(i):\n",
    "    ind = knn_index_test[i][:k]\n",
    "    k_dist_test = [i for i in disttl[i][ind]]\n",
    "    k_dist_fuzzifier_test =  np.power(k_dist_test,fuzzyfier) \n",
    "    k_dist_test = sum(k_dist_fuzzifier_test)\n",
    "    return k_dist_test,y_Labeled.iloc[ind].values   \n",
    "\n",
    "#relationship R for tests\n",
    "def R(ti,lx):\n",
    "    numerator = para_knn_test(ti)[0]\n",
    "    denomerator = disttl[ti][lx]\n",
    "    denomerator = np.power(denomerator,fuzzyfier)\n",
    "    return (numerator/denomerator)\n",
    "\n",
    "#class function test\n",
    "def C(j,lx):\n",
    "    if (y_Labeled.iloc[lx].values== j):\n",
    "        return 1\n",
    "    else:\n",
    "        return 0\n",
    "    \n",
    "#lower approximation function for test\n",
    "\n",
    "def R_lower_test(ti,cj):\n",
    "    rl=[]\n",
    "    for i in range(k):\n",
    "        l_x = knn_index_test[ti][i]\n",
    "        rl.append(min(1,(1 + C(cj,l_x)) -R(ti,l_x)) )\n",
    "    return min(rl) \n",
    "\n",
    "#upper approximation function for test \n",
    "\n",
    "def R_upper_test(ti,cj):\n",
    "    ru=[]\n",
    "    for i in range(k):\n",
    "        l_x = knn_index_test[ti][i]\n",
    "        \n",
    "        ru.append( max(0,(R(ti,l_x)+C(cj,l_x))-1) )\n",
    "    return max(ru) \n",
    "            \n",
    "    "
   ]
  },
  {
   "cell_type": "code",
   "execution_count": 22,
   "metadata": {},
   "outputs": [],
   "source": [
    "#assigning class label\n",
    "#get the most confusing sample from    \n",
    "def get_Class():\n",
    "    \n",
    "    #computing the lower approximation for unlabeled with association of class 1\n",
    "    R_lower_test_1=[]\n",
    "    for i in range(len(X_test_rfe)):\n",
    "        R_lower_test_1.append(R_lower_test(i,1))\n",
    "        \n",
    "    #computing the lower approximation for unlabeled with association of class 2    \n",
    "    R_lower_test_2=[]\n",
    "    for i in range(len(X_test_rfe)):\n",
    "        R_lower_test_2.append(R_lower_test(i,2)) \n",
    "     \n",
    "    #computing the upper approximation for unlabeled with association of class 1\n",
    "    R_upper_test_1=[]\n",
    "    for i in range(len(X_test_rfe)):\n",
    "        R_upper_test_1.append(R_upper_test(i,1))\n",
    "    \n",
    "    #computing the upper approximation for unlabeled with association of class 2\n",
    "    R_upper_test_2=[]\n",
    "    for i in range(len(X_test_rfe)):\n",
    "        R_upper_test_2.append(R_upper_test(i,2))    \n",
    "\n",
    "    \n",
    "    #getting average of the upper and lower approximation and computing normalized ratio for the class 1\n",
    "    avg_test_1= np. add(R_lower_test_1, R_upper_test_1)\n",
    "    avg_test_1 =[e/2 for e in avg_test_1]\n",
    "    \n",
    "   \n",
    "    \n",
    "    #getting average of the upper and lower approximation and computing normalized ratio for the class 1 \n",
    "    avg_test_2= np. add(R_lower_test_2, R_upper_test_2)\n",
    "    avg_test_2 =[e/2 for e in avg_test_2]\n",
    "    \n",
    "    predicted_label = [0] * len(avg_test_1)\n",
    "    for i in range(len(avg_test_1)):\n",
    "        if (avg_test_1[i]>=avg_test_2[i]):\n",
    "            predicted_label[i]=1\n",
    "        else:\n",
    "            predicted_label[i]=2\n",
    "            \n",
    "   \n",
    "    return predicted_label\n"
   ]
  },
  {
   "cell_type": "code",
   "execution_count": 23,
   "metadata": {},
   "outputs": [],
   "source": [
    "predicted_label = get_Class()"
   ]
  },
  {
   "cell_type": "code",
   "execution_count": 24,
   "metadata": {},
   "outputs": [],
   "source": [
    "#performance evaluation metrics"
   ]
  },
  {
   "cell_type": "code",
   "execution_count": 25,
   "metadata": {},
   "outputs": [],
   "source": [
    "#performance evaluation metrics function\n",
    "def get_per_mat(y_test,predicted_label):\n",
    "    \n",
    "    #Confusion matrix\n",
    "    cf = confusion_matrix(y_test,predicted_label)\n",
    "    print('confusion matrix: \\n',cf)\n",
    "    \n",
    "    #accuracy\n",
    "    print('accuracy: ',accuracy_score(y_test,predicted_label))\n",
    "    \n",
    "    #precision\n",
    "    precision = cf[0][0]/(cf[0][0]+cf[1][0])\n",
    "    print('precision: ',precision)\n",
    "    \n",
    "    #recall\n",
    "    recall = cf[0][0]/(cf[0][0]+cf[0][1])\n",
    "    print('recall: ',recall)\n",
    "    \n",
    "    #f-measure\n",
    "    print('f-measure: ',f1_score(y_test,predicted_label))\n",
    "    \n",
    "    #cohen kappa score\n",
    "    print('cohen kappa: ',cohen_kappa_score(y_test,predicted_label))\n",
    "    \n",
    "    return cf"
   ]
  },
  {
   "cell_type": "code",
   "execution_count": 26,
   "metadata": {},
   "outputs": [
    {
     "name": "stdout",
     "output_type": "stream",
     "text": [
      "confusion matrix: \n",
      " [[33  2]\n",
      " [ 2 14]]\n",
      "accuracy:  0.9215686274509803\n",
      "precision:  0.9428571428571428\n",
      "recall:  0.9428571428571428\n",
      "f-measure:  0.9428571428571428\n",
      "cohen kappa:  0.8178571428571428\n"
     ]
    },
    {
     "data": {
      "text/plain": [
       "array([[33,  2],\n",
       "       [ 2, 14]], dtype=int64)"
      ]
     },
     "execution_count": 26,
     "metadata": {},
     "output_type": "execute_result"
    }
   ],
   "source": [
    "get_per_mat(y_test,predicted_label)"
   ]
  },
  {
   "cell_type": "markdown",
   "metadata": {},
   "source": [
    "### KNN"
   ]
  },
  {
   "cell_type": "code",
   "execution_count": 27,
   "metadata": {},
   "outputs": [
    {
     "name": "stdout",
     "output_type": "stream",
     "text": [
      "(15, 1)\n"
     ]
    },
    {
     "data": {
      "text/plain": [
       "5147\n",
       "2       9\n",
       "1       6\n",
       "dtype: int64"
      ]
     },
     "execution_count": 27,
     "metadata": {},
     "output_type": "execute_result"
    }
   ],
   "source": [
    "print(y_Labeled.shape)\n",
    "y_Labeled.value_counts()"
   ]
  },
  {
   "cell_type": "code",
   "execution_count": 64,
   "metadata": {},
   "outputs": [],
   "source": [
    "X_train, X_test, y_train, y_test = train_test_split(X, y, test_size=0.78, random_state=42)\n"
   ]
  },
  {
   "cell_type": "code",
   "execution_count": 65,
   "metadata": {},
   "outputs": [
    {
     "name": "stdout",
     "output_type": "stream",
     "text": [
      "(15, 1)\n"
     ]
    },
    {
     "data": {
      "text/plain": [
       "5147\n",
       "1       9\n",
       "2       6\n",
       "dtype: int64"
      ]
     },
     "execution_count": 65,
     "metadata": {},
     "output_type": "execute_result"
    }
   ],
   "source": [
    "print(y_train.shape)\n",
    "y_train.value_counts()"
   ]
  },
  {
   "cell_type": "code",
   "execution_count": 66,
   "metadata": {},
   "outputs": [
    {
     "name": "stderr",
     "output_type": "stream",
     "text": [
      "C:\\anaconda\\lib\\site-packages\\ipykernel_launcher.py:2: DataConversionWarning: A column-vector y was passed when a 1d array was expected. Please change the shape of y to (n_samples, ), for example using ravel().\n",
      "  \n"
     ]
    }
   ],
   "source": [
    "\n",
    "\n",
    "model = KNeighborsClassifier(n_neighbors=2)\n",
    "model.fit(X_train,y_train)\n",
    "\n",
    "predicted= model.predict(X_test) \n"
   ]
  },
  {
   "cell_type": "code",
   "execution_count": 67,
   "metadata": {},
   "outputs": [
    {
     "name": "stdout",
     "output_type": "stream",
     "text": [
      "confusion matrix: \n",
      " [[37  1]\n",
      " [ 8 11]]\n",
      "accuracy:  0.8421052631578947\n",
      "precision:  0.8222222222222222\n",
      "recall:  0.9736842105263158\n",
      "f-measure:  0.891566265060241\n",
      "cohen kappa:  0.6086956521739131\n"
     ]
    },
    {
     "data": {
      "text/plain": [
       "array([[37,  1],\n",
       "       [ 8, 11]], dtype=int64)"
      ]
     },
     "execution_count": 67,
     "metadata": {},
     "output_type": "execute_result"
    }
   ],
   "source": [
    "get_per_mat(y_test,predicted)"
   ]
  },
  {
   "cell_type": "markdown",
   "metadata": {},
   "source": [
    "### SVM"
   ]
  },
  {
   "cell_type": "code",
   "execution_count": 68,
   "metadata": {},
   "outputs": [
    {
     "name": "stderr",
     "output_type": "stream",
     "text": [
      "C:\\anaconda\\lib\\site-packages\\sklearn\\utils\\validation.py:72: DataConversionWarning: A column-vector y was passed when a 1d array was expected. Please change the shape of y to (n_samples, ), for example using ravel().\n",
      "  return f(**kwargs)\n"
     ]
    }
   ],
   "source": [
    "\n",
    "\n",
    "\n",
    "classifier = svm.SVC(kernel='linear') # We set a SVM classifier, the default SVM Classifier (Kernel = Radial Basis Function)\n",
    "classifier.fit(X_train, y_train) \n",
    "prediction_SVM = classifier.predict(X_test)"
   ]
  },
  {
   "cell_type": "code",
   "execution_count": 69,
   "metadata": {},
   "outputs": [
    {
     "name": "stdout",
     "output_type": "stream",
     "text": [
      "confusion matrix: \n",
      " [[35  3]\n",
      " [ 2 17]]\n",
      "accuracy:  0.9122807017543859\n",
      "precision:  0.9459459459459459\n",
      "recall:  0.9210526315789473\n",
      "f-measure:  0.9333333333333332\n",
      "cohen kappa:  0.8051948051948052\n"
     ]
    },
    {
     "data": {
      "text/plain": [
       "array([[35,  3],\n",
       "       [ 2, 17]], dtype=int64)"
      ]
     },
     "execution_count": 69,
     "metadata": {},
     "output_type": "execute_result"
    }
   ],
   "source": [
    "get_per_mat(y_test,prediction_SVM)"
   ]
  },
  {
   "cell_type": "code",
   "execution_count": null,
   "metadata": {},
   "outputs": [],
   "source": []
  },
  {
   "cell_type": "code",
   "execution_count": null,
   "metadata": {},
   "outputs": [],
   "source": []
  },
  {
   "cell_type": "code",
   "execution_count": null,
   "metadata": {},
   "outputs": [],
   "source": []
  }
 ],
 "metadata": {
  "kernelspec": {
   "display_name": "Python 3",
   "language": "python",
   "name": "python3"
  },
  "language_info": {
   "codemirror_mode": {
    "name": "ipython",
    "version": 3
   },
   "file_extension": ".py",
   "mimetype": "text/x-python",
   "name": "python",
   "nbconvert_exporter": "python",
   "pygments_lexer": "ipython3",
   "version": "3.7.3"
  }
 },
 "nbformat": 4,
 "nbformat_minor": 2
}
